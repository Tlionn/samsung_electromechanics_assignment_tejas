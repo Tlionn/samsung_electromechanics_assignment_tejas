{
 "cells": [
  {
   "cell_type": "raw",
   "id": "92fc3674-1cf1-4f52-af28-87966f46e233",
   "metadata": {},
   "source": [
    "1. class label in 1st column c1-c5, 2nd column ID v1-v5, 3rd column TP, 4th column FP, 5th column TN, 6th column FN generate 6th column F score\n",
    "2. Write logic such that given a class get average accuracy for that label, or given an ID (volume) get average accuracy for that label. "
   ]
  },
  {
   "cell_type": "code",
   "execution_count": 18,
   "id": "3063d5a6-70b2-4610-84ff-e97e9315d053",
   "metadata": {},
   "outputs": [],
   "source": [
    "import numpy as np\n",
    "import pandas as pd\n",
    "classes = [\"c1\"]*5+ [\"c2\"]*5+ [\"c3\"]*5 + [\"c4\"]*5 + [\"c5\"]*5\n",
    "volumes = [\"v1\",\"v2\", \"v3\", \"v4\", \"v5\"]*5\n",
    "df = pd.DataFrame(columns = [\"classes\",\"volumes\",\"TP\",\"FP\",\"TN\",\"FN\",\"accuracy\"])\n",
    "                  "
   ]
  },
  {
   "cell_type": "code",
   "execution_count": 19,
   "id": "c2d1b67e-36f2-46a9-b25d-43d26b3ff366",
   "metadata": {},
   "outputs": [],
   "source": [
    "df[\"classes\"] = classes\n",
    "df[\"volumes\"] = volumes"
   ]
  },
  {
   "cell_type": "code",
   "execution_count": 20,
   "id": "3dc9872d-a017-4652-ba00-1c9fe789e1c0",
   "metadata": {},
   "outputs": [],
   "source": [
    "import random"
   ]
  },
  {
   "cell_type": "code",
   "execution_count": 21,
   "id": "653e5ecf-8382-448a-b1a7-a9bdb4054f50",
   "metadata": {},
   "outputs": [],
   "source": [
    "TP = random.choices(range(0,25), k = 25)\n",
    "FP = random.choices(range(0,25), k = 25)\n",
    "TN = random.choices(range(0,25), k = 25)\n",
    "FN = random.choices(range(0,25), k = 25)"
   ]
  },
  {
   "cell_type": "code",
   "execution_count": 22,
   "id": "20b0ec7c-f09f-434c-a184-33de5f780ef2",
   "metadata": {},
   "outputs": [],
   "source": [
    "df[\"TP\"] = TP\n",
    "df[\"FP\"] = FP\n",
    "df[\"TN\"] = TN\n",
    "df[\"FN\"] = FN"
   ]
  },
  {
   "cell_type": "code",
   "execution_count": 26,
   "id": "1a326896-a9d4-430e-9a0d-33d5784bb2f1",
   "metadata": {},
   "outputs": [],
   "source": [
    "acc = []\n",
    "for i, row in df.iterrows():\n",
    "    acc.append((row[\"TP\"]+row[\"FP\"])/(row[\"TP\"]+row[\"FP\"]+row[\"TN\"]+row[\"FN\"]))\n",
    "df[\"accuracy\"] = acc"
   ]
  },
  {
   "cell_type": "code",
   "execution_count": 43,
   "id": "a1bc9c88-06fd-4664-8a35-31be63099d45",
   "metadata": {
    "tags": []
   },
   "outputs": [],
   "source": [
    "def get_acc(df,c=\"null\",v=\"null\"):\n",
    "    c_accuracies = []\n",
    "    for i, row in df.iterrows():\n",
    "        if c!=\"null\":\n",
    "            if row[\"classes\"] == c:\n",
    "                print(row[\"accuracy\"])\n",
    "                c_accuracies.append(row[\"accuracy\"])\n",
    "        if v!=\"null\":\n",
    "            if row[\"volumes\"] == v:\n",
    "                print(row[\"accuracy\"])\n",
    "                c_accuracies.append(row[\"accuracy\"])\n",
    "    return sum(c_accuracies)/len(c_accuracies)"
   ]
  },
  {
   "cell_type": "code",
   "execution_count": 44,
   "id": "7e844cd5-7381-40d4-b7cc-b01f42a235e6",
   "metadata": {},
   "outputs": [
    {
     "name": "stdout",
     "output_type": "stream",
     "text": [
      "0.4461538461538462\n",
      "0.3793103448275862\n",
      "0.6341463414634146\n",
      "0.581081081081081\n",
      "0.64\n"
     ]
    },
    {
     "data": {
      "text/plain": [
       "0.5361383227051857"
      ]
     },
     "execution_count": 44,
     "metadata": {},
     "output_type": "execute_result"
    }
   ],
   "source": [
    "get_acc(df,v=\"v2\")"
   ]
  },
  {
   "cell_type": "code",
   "execution_count": 45,
   "id": "9b32a6d7-21d3-4dbf-910f-3d7f613916b3",
   "metadata": {},
   "outputs": [
    {
     "data": {
      "text/plain": [
       "0.5361383227051857"
      ]
     },
     "execution_count": 45,
     "metadata": {},
     "output_type": "execute_result"
    }
   ],
   "source": [
    "(0.4461538461538462+0.3793103448275862+0.6341463414634146+0.581081081081081+0.64)/5"
   ]
  },
  {
   "cell_type": "raw",
   "id": "fd1eaffe-ffc7-434f-83c8-d39808badadb",
   "metadata": {},
   "source": [
    "OCR detector and recognizer using tensorflow\n",
    "No pretrained model. Train from scratch, can use any open source dataset.\n",
    "If using pretrained model, have both accuracies mentioned. \n",
    "Report- what model, what architecture, dataset\n",
    "Create on GitHub and share the link. "
   ]
  },
  {
   "cell_type": "code",
   "execution_count": null,
   "id": "c9193fcb-417a-4948-830a-65b7a7318028",
   "metadata": {},
   "outputs": [],
   "source": []
  }
 ],
 "metadata": {
  "kernelspec": {
   "display_name": "generic_env",
   "language": "python",
   "name": "generic_env"
  },
  "language_info": {
   "codemirror_mode": {
    "name": "ipython",
    "version": 3
   },
   "file_extension": ".py",
   "mimetype": "text/x-python",
   "name": "python",
   "nbconvert_exporter": "python",
   "pygments_lexer": "ipython3",
   "version": "3.9.7"
  }
 },
 "nbformat": 4,
 "nbformat_minor": 5
}
